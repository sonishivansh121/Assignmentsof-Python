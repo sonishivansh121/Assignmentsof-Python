{
 "cells": [
  {
   "cell_type": "code",
   "execution_count": 6,
   "id": "fb72245d-a1ed-4618-957c-2e1e371029fb",
   "metadata": {},
   "outputs": [
    {
     "name": "stdout",
     "output_type": "stream",
     "text": [
      "flat list = [1, 2, 3, 4, 44, 55, 66, 34, 56, 78, 89, 34, 1, 2, 3, 1, 4, 34, 55, 67, 78, 89, 45, 22, 61, 34, 56]\n",
      "product of list = 4134711838987085478833841242112000\n"
     ]
    }
   ],
   "source": [
    "# ANS 1\n",
    "from functools import reduce\n",
    "\n",
    "list1 = [1,2,3,4, [44,55,66, True], False, (34,56,78,89,34), {1,2,3,3,2,1}, {1:34, \"key2\": [55, 67, 78, 89], 4: (45,\n",
    "22, 61, 34)}, [56, 'data science'], 'Machine Learning']\n",
    "\n",
    "\n",
    "\n",
    "\n",
    "\n",
    "\n",
    "\n",
    "\n",
    "def data(l):\n",
    "    k=[]\n",
    "\n",
    "    def open_iterable(v):\n",
    "\n",
    "        k = []\n",
    "        for i in v:\n",
    "            if type(i) == int:\n",
    "                k.append(i)\n",
    "            else:\n",
    "                continue\n",
    "\n",
    "        return k\n",
    "\n",
    "\n",
    "    for i in l:\n",
    "        if type(i)==int:\n",
    "            k.append(i)\n",
    "        elif type(i)==bool:\n",
    "            continue\n",
    "        elif type(i)==dict:\n",
    "            for l in i.keys():\n",
    "                if type(l)==int:\n",
    "                    k.append(l)\n",
    "                else:\n",
    "                    continue\n",
    "\n",
    "            for l in i.values():\n",
    "                if type(l)==int:\n",
    "                    k.append(l)\n",
    "                else:\n",
    "                    s=open_iterable(l)\n",
    "                    for i in s:\n",
    "                        k.append(i)\n",
    "\n",
    "        elif type(i)==bool:\n",
    "            pass\n",
    "\n",
    "        else:\n",
    "            s=open_iterable(i)\n",
    "            for i in s:\n",
    "                k.append(i)\n",
    "\n",
    "\n",
    "\n",
    "    prod=reduce(lambda x,y:x*y,k)\n",
    "\n",
    "    return f\"\"\"flat list = {k}\n",
    "product of list = {prod}\"\"\"\n",
    "\n",
    "\n",
    "\n",
    "\n",
    "result=data(list1)\n",
    "print(result)"
   ]
  },
  {
   "cell_type": "code",
   "execution_count": 8,
   "id": "e5bcb8e5-3343-43d6-bc94-8f4b3c556af3",
   "metadata": {},
   "outputs": [],
   "source": [
    "# ANS 2\n",
    "def encryption(sentence):\n",
    "    filtered=sentence.lower()\n",
    "    rule={'a':'z','b':'y','c':'x','d':'w','e':'v','f':'u','g':'t','h':'s','i':'r','j':'q','k':'p','l':'o','m':'n','n':'m','o':'l','p':'k','q':'j','r':'i','s':'h','t':'g','u':'f','v':'e','w':'d','x':'c','y':'b','z':'a',' ':'$'}\n",
    "    msg=''\n",
    "    for i in filtered:\n",
    "        if i in rule:\n",
    "            msg=msg+rule[i]\n",
    "        else:\n",
    "            continue\n",
    "        \n",
    "    return msg\n",
    "\n"
   ]
  },
  {
   "cell_type": "code",
   "execution_count": 10,
   "id": "1ad5614a-8c6d-4a83-ac28-111221f8b55d",
   "metadata": {},
   "outputs": [],
   "source": [
    "sentence=\"I want to become a Data Scientist.\"\n"
   ]
  },
  {
   "cell_type": "code",
   "execution_count": 11,
   "id": "ba41143d-1d80-49cb-914e-92b82b0a3d24",
   "metadata": {},
   "outputs": [],
   "source": [
    "encrypted_msg=encryption(sentence)"
   ]
  },
  {
   "cell_type": "code",
   "execution_count": 12,
   "id": "c88ac12e-499c-4dc2-8cda-cbdd5e1e9c2d",
   "metadata": {},
   "outputs": [
    {
     "data": {
      "text/plain": [
       "'r$dzmg$gl$yvxlnv$z$wzgz$hxrvmgrhg'"
      ]
     },
     "execution_count": 12,
     "metadata": {},
     "output_type": "execute_result"
    }
   ],
   "source": [
    "encrypted_msg"
   ]
  },
  {
   "cell_type": "code",
   "execution_count": null,
   "id": "90376496-74e3-4ec9-9d1d-d6101e9c3730",
   "metadata": {},
   "outputs": [],
   "source": []
  }
 ],
 "metadata": {
  "kernelspec": {
   "display_name": "Python 3 (ipykernel)",
   "language": "python",
   "name": "python3"
  },
  "language_info": {
   "codemirror_mode": {
    "name": "ipython",
    "version": 3
   },
   "file_extension": ".py",
   "mimetype": "text/x-python",
   "name": "python",
   "nbconvert_exporter": "python",
   "pygments_lexer": "ipython3",
   "version": "3.10.6"
  }
 },
 "nbformat": 4,
 "nbformat_minor": 5
}
