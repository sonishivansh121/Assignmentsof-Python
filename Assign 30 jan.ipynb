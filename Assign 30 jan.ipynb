{
 "cells": [
  {
   "cell_type": "code",
   "execution_count": 1,
   "id": "5817fba1-7772-463c-a696-e869fb5b96ff",
   "metadata": {},
   "outputs": [
    {
     "name": "stdin",
     "output_type": "stream",
     "text": [
      "Enter your percentage(%):  80\n"
     ]
    },
    {
     "name": "stdout",
     "output_type": "stream",
     "text": [
      "Your grade is : C\n"
     ]
    }
   ],
   "source": [
    "# Ans -1 of Question \n",
    "\n",
    "percentage=int(input(\"Enter your percentage(%): \"))\n",
    "\n",
    "if percentage>90:\n",
    "    print('Your grade is : A')\n",
    "elif percentage>80 and percentage<=90:\n",
    "    print('Your grade is : B')\n",
    "elif percentage>=60 and percentage<=80:\n",
    "    print('Your grade is : C')\n",
    "elif percentage<60:\n",
    "    print('Your grade is : D')\n",
    "        "
   ]
  },
  {
   "cell_type": "code",
   "execution_count": 3,
   "id": "b2ff137c-1e4b-48a8-bfec-b56add77d46b",
   "metadata": {},
   "outputs": [
    {
     "name": "stdin",
     "output_type": "stream",
     "text": [
      "Enter Bike price :  51000\n"
     ]
    },
    {
     "name": "stdout",
     "output_type": "stream",
     "text": [
      "Road Tax to be paid : 10%\n"
     ]
    }
   ],
   "source": [
    "# Ans -2 of Question \n",
    "\n",
    "\n",
    "Bike_price=int(input(\"Enter Bike price : \"))\n",
    "\n",
    "if Bike_price>100000:\n",
    "    print(\"Road Tax to be paid : 15%\")\n",
    "elif Bike_price>50000 and cost_price<=100000:\n",
    "    print(\"Road Tax to be paid : 10%\")\n",
    "elif Bike_price<=50000:\n",
    "    print(\"Road Tax to be paid : 5%\")"
   ]
  },
  {
   "cell_type": "code",
   "execution_count": 4,
   "id": "c941cb18-d838-4737-9c60-b67274fd53ff",
   "metadata": {},
   "outputs": [
    {
     "name": "stdout",
     "output_type": "stream",
     "text": [
      "option are dict_keys(['Delhi', 'Agra', 'Jaipur'])\n"
     ]
    },
    {
     "name": "stdin",
     "output_type": "stream",
     "text": [
      "Enter City Name Delhi\n"
     ]
    },
    {
     "name": "stdout",
     "output_type": "stream",
     "text": [
      "monuments is : Red fort\n"
     ]
    }
   ],
   "source": [
    "# Ans -3 of Question\n",
    "city = {\n",
    "    \"Delhi\":\"Red fort\", \n",
    "    \"Agra\" : \"Taj mahal\", \n",
    "    \"Jaipur\":\"Jal mahal\"} \n",
    "print(\"option are\", city.keys())\n",
    "a = input(\"Enter City Name\")\n",
    "print(\"monuments is :\",city.get(a))"
   ]
  },
  {
   "cell_type": "code",
   "execution_count": 5,
   "id": "138a88fe-8c60-470f-89d3-50f428401c76",
   "metadata": {},
   "outputs": [
    {
     "name": "stdin",
     "output_type": "stream",
     "text": [
      "Enter Your Number 270\n"
     ]
    },
    {
     "name": "stdout",
     "output_type": "stream",
     "text": [
      " The given number is divisble by 3 ----> 3 times before it is less than 10\n"
     ]
    }
   ],
   "source": [
    "# Ans -4 of Question\n",
    "num = int(input(\"Enter Your Number\"))\n",
    "i= 0\n",
    "while num  > 10:\n",
    "    if num%3 ==0:\n",
    "        i+=1\n",
    "        num = num / 3\n",
    "    else:\n",
    "        break\n",
    "print(f\" The given number is divisble by 3 ----> {i} times before it is less than 10\")"
   ]
  },
  {
   "cell_type": "markdown",
   "id": "933f1e1b-5576-497b-bf94-3037fa1d7813",
   "metadata": {},
   "source": [
    "# Ans -5 of Question\n",
    "\n",
    "We use while loop when we want certain condition to be true and the number of itreations don't\n",
    "matter. The loop will run n number of time unless the conditon is met.\n",
    "\n",
    "for example we have asked user to give their age and set a condition that age should'nt be\n",
    "negative and the loop will run n times unless user give postitve input"
   ]
  },
  {
   "cell_type": "code",
   "execution_count": 4,
   "id": "3321d312-9201-418d-8f2e-ca54708b7f9b",
   "metadata": {},
   "outputs": [
    {
     "name": "stdin",
     "output_type": "stream",
     "text": [
      "Enter your bill:  -100\n"
     ]
    },
    {
     "name": "stdout",
     "output_type": "stream",
     "text": [
      "bill can't be negative\n"
     ]
    },
    {
     "name": "stdin",
     "output_type": "stream",
     "text": [
      "Enter your bill:  500\n"
     ]
    },
    {
     "name": "stdout",
     "output_type": "stream",
     "text": [
      "your bill is RS:  500\n"
     ]
    }
   ],
   "source": [
    "\n",
    "\n",
    "bill=int(input(\"Enter your bill: \"))\n",
    "\n",
    "while bill<0:\n",
    "    print(\"bill can't be negative\")\n",
    "    bill=int(input(\"Enter your bill: \"))\n",
    "    \n",
    "print(\"your bill is RS: \",bill)\n"
   ]
  },
  {
   "cell_type": "code",
   "execution_count": 5,
   "id": "edb42408-60f9-47d8-9c3d-e2ea2367fbf1",
   "metadata": {},
   "outputs": [
    {
     "name": "stdout",
     "output_type": "stream",
     "text": [
      "* \n",
      "* * \n",
      "* * * \n",
      "* * * * \n",
      "* * * * * \n"
     ]
    }
   ],
   "source": [
    "# Ans -6 of Question\n",
    "i=1\n",
    "while i<=5:\n",
    "    j=1\n",
    "    while j<=i:\n",
    "        print(\"*\",end=\" \")\n",
    "        j=j+1\n",
    "    print()\n",
    "    i=i+1\n"
   ]
  },
  {
   "cell_type": "code",
   "execution_count": 6,
   "id": "be41af92-b7a6-4ebc-93f1-8a0d27ae15f9",
   "metadata": {},
   "outputs": [
    {
     "name": "stdout",
     "output_type": "stream",
     "text": [
      "* * * * * \n",
      "* * * * \n",
      "* * * \n",
      "* * \n",
      "* \n"
     ]
    }
   ],
   "source": [
    "i=1\n",
    "\n",
    "while i<=5:\n",
    "    j=0\n",
    "    while j<=5-i:\n",
    "        print(\"*\",end=\" \")\n",
    "        j+=1\n",
    "    print()\n",
    "    i+=1"
   ]
  },
  {
   "cell_type": "code",
   "execution_count": 7,
   "id": "cb85d6d7-58b2-4394-9c7f-398a9290d100",
   "metadata": {},
   "outputs": [
    {
     "name": "stdout",
     "output_type": "stream",
     "text": [
      "          * \n",
      "        * * * \n",
      "      * * * * * \n",
      "    * * * * * * * \n",
      "  * * * * * * * * * \n"
     ]
    }
   ],
   "source": [
    "i=1\n",
    "\n",
    "while i<=5:\n",
    "    j=0\n",
    "    while j<=5-i:\n",
    "        print(\" \",end=\" \")\n",
    "        j+=1\n",
    "    \n",
    "    \n",
    "    k=1\n",
    "    while k<=i:\n",
    "        print(\"*\",end=\" \")\n",
    "        k+=1\n",
    "        \n",
    "    l=0\n",
    "    while l<i-1:\n",
    "        print(\"*\",end=\" \")\n",
    "        l+=1\n",
    "    print()\n",
    "        \n",
    "    i+=1"
   ]
  },
  {
   "cell_type": "code",
   "execution_count": 8,
   "id": "e3016302-9021-442f-85eb-86088aa0c2bf",
   "metadata": {},
   "outputs": [
    {
     "name": "stdout",
     "output_type": "stream",
     "text": [
      "10\n",
      "9\n",
      "8\n",
      "7\n",
      "6\n",
      "5\n",
      "4\n",
      "3\n",
      "2\n",
      "1\n"
     ]
    }
   ],
   "source": [
    "# Ans -7 of Question\n",
    "i=10\n",
    "\n",
    "while i>=1:\n",
    "    print(i)\n",
    "    i-=1"
   ]
  },
  {
   "cell_type": "code",
   "execution_count": null,
   "id": "5fdd5b63-0a6f-4573-b898-3f7f54a0ced3",
   "metadata": {},
   "outputs": [],
   "source": [
    "# Ans -8 of Question\n"
   ]
  }
 ],
 "metadata": {
  "kernelspec": {
   "display_name": "Python 3 (ipykernel)",
   "language": "python",
   "name": "python3"
  },
  "language_info": {
   "codemirror_mode": {
    "name": "ipython",
    "version": 3
   },
   "file_extension": ".py",
   "mimetype": "text/x-python",
   "name": "python",
   "nbconvert_exporter": "python",
   "pygments_lexer": "ipython3",
   "version": "3.10.6"
  }
 },
 "nbformat": 4,
 "nbformat_minor": 5
}
