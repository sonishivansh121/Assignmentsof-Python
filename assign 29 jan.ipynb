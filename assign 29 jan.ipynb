{
 "cells": [
  {
   "cell_type": "markdown",
   "id": "3e4fea83-7290-445d-874d-1430e6c4f53d",
   "metadata": {},
   "source": [
    "Ques -1. Who developed Python Programming Language?\n",
    "\n",
    "Ans-1\n",
    "In late 1980s a dutch programmer named \"Guido van Rossum\" started working on python as a successor\n",
    "ABC programming language. The first version i.e. \"Python 0.9.0.\" was relesed in the year 1991"
   ]
  },
  {
   "cell_type": "markdown",
   "id": "c7fccbad-6975-42c2-9340-e1f4add6a17c",
   "metadata": {},
   "source": [
    "Ques-2. Which type of Programming does Python support?\n",
    "\n",
    "Ans-2\n",
    "Procedural,Object-oriented and Functional programming"
   ]
  },
  {
   "cell_type": "markdown",
   "id": "65968ebf-f7b1-494d-b881-0947a8f4744e",
   "metadata": {},
   "source": [
    "Ques-3. Is Python case sensitive when dealing with identifiers?\n",
    "\n",
    "Ans-3\n",
    "Yes"
   ]
  },
  {
   "cell_type": "markdown",
   "id": "46371784-06c9-459f-afcb-f0689ed9c602",
   "metadata": {},
   "source": [
    "Ques-4. What is the correct extension of the Python file?\n",
    "\n",
    "Ans-4\n",
    ".py"
   ]
  },
  {
   "cell_type": "markdown",
   "id": "061594c0-8244-4e94-ad6a-67a2935df4d7",
   "metadata": {},
   "source": [
    "Ques-5. Is Python code compiled or interpreted?\n",
    "\n",
    "Ans-5\n",
    "Python code is interpreted."
   ]
  },
  {
   "cell_type": "markdown",
   "id": "5bb9bdf8-e960-4694-b557-44b31a923719",
   "metadata": {},
   "source": [
    "Ques-6. Name a few blocks of code used to define in Python language?\n",
    "\n",
    "Ans-6\n",
    "1.If\n",
    "2.elif\n",
    "3.else"
   ]
  },
  {
   "cell_type": "markdown",
   "id": "5d64858a-dc15-46f8-a729-291f7c0df92d",
   "metadata": {},
   "source": [
    "Ques-7. State a character used to give single-line comments in Python?\n",
    "Ans-7\n",
    "'comments'"
   ]
  },
  {
   "cell_type": "markdown",
   "id": "6e069ea1-5394-4257-9fc3-86469085215b",
   "metadata": {},
   "source": [
    "Ques-8. Mention functions which can help us to find the version of python that we are currently working on?\n",
    "\n",
    "Ans-8\n",
    "\n"
   ]
  },
  {
   "cell_type": "code",
   "execution_count": 3,
   "id": "477d55ed-def1-4776-959f-40a5a4d94a50",
   "metadata": {},
   "outputs": [
    {
     "name": "stdout",
     "output_type": "stream",
     "text": [
      "Current Python Version- 3.10.6\n"
     ]
    }
   ],
   "source": [
    "from platform import python_version\n",
    "\n",
    "\n",
    "print(\"Current Python Version-\", python_version())"
   ]
  },
  {
   "cell_type": "markdown",
   "id": "59b5d4c5-3541-4a29-b577-43cc55ecbcec",
   "metadata": {},
   "source": [
    "Ques-9. Python supports the creation of anonymous functions at runtime, using a construct called_______\n",
    "\n",
    "Ans-9\n",
    "lambda"
   ]
  },
  {
   "cell_type": "markdown",
   "id": "b9a59326-f275-4fe9-98e3-337822fbda41",
   "metadata": {},
   "source": [
    "Ques-10. What does pip stand for python?\n",
    "\n",
    "Ans-10\n",
    "preferred installer program"
   ]
  },
  {
   "cell_type": "markdown",
   "id": "7c4be528-3b3c-4f40-aec9-8aaa68ac8f63",
   "metadata": {},
   "source": [
    "ques-11. Mention a few built-in functions in python?\n",
    "\n",
    "Ans-11\n",
    "1.print()\n",
    "2.type()\n",
    "3.bool()\n",
    "4.int()\n",
    "5.float()\n",
    "6.str()"
   ]
  },
  {
   "cell_type": "markdown",
   "id": "59036a09-ede6-4d9b-b537-89b76eba6c3d",
   "metadata": {},
   "source": [
    "Ques-12. What is the maximum possible length of an identifier in Python?\n",
    "\n",
    "Ans-12\n",
    "79 characters"
   ]
  },
  {
   "cell_type": "markdown",
   "id": "01e24acd-b9f6-46f2-a37c-567d9a9c5c38",
   "metadata": {},
   "source": [
    "Ques-13. What are the benefits of using Python?\n",
    "\n",
    "Ans-13\n",
    "benifits of learning Python\n",
    "\n",
    "User-Friendly data structure\n",
    "Easy to learn\n",
    "fast code development speed\n",
    "It is interpreted language which makes it very fast to execute, whereas other languages like c++ takes time for compilation and then execute the program\n",
    "python has various libraries\n",
    "heavily used in Data Science\n"
   ]
  },
  {
   "cell_type": "markdown",
   "id": "9e7449c6-52f7-43a3-9097-e4b37b715b6a",
   "metadata": {},
   "source": [
    "Ques-14. How is memory managed in Python?\n",
    "\n",
    "Ans-14\n",
    "Memory is managed in python by garbage collection and reference counting\n",
    "Garbage collection is a process in which the interpreter frees up the memory when not in use to make it available for other objects.\n",
    "Reference counting works by counting the number of times an object is referenced by other objects in the system. When references to an object are removed, the reference count for an object is decremented. When the reference count becomes zero, the object is deallocated."
   ]
  },
  {
   "cell_type": "markdown",
   "id": "8ebec03c-d966-45d4-8dae-1f046d090a29",
   "metadata": {},
   "source": [
    "Ques-15. How to install Python on Windows and set path variables?\n",
    "\n",
    "Ans-15\n",
    "\n",
    "First we have to visit website www.python.org, where we can download latest version of python installer on our operating system\n",
    "Now we have to launch the python installer and then install python\n",
    "Now we have to open envirvironment variable and in system variable column click on path and then edit button\n",
    "Now a new window will open where we have click on new path and past the path of the python.exe and we also have to add path of scripts folder\n",
    " "
   ]
  },
  {
   "cell_type": "markdown",
   "id": "8a8dad98-840c-45ac-8717-f0862c3408da",
   "metadata": {},
   "source": [
    "Ques-16. Is indentation required in python?\n",
    "\n",
    "Ans-16\n",
    "yes"
   ]
  },
  {
   "cell_type": "code",
   "execution_count": null,
   "id": "f65d15df-ce38-4249-9ec0-77d5fb9c7de1",
   "metadata": {},
   "outputs": [],
   "source": []
  }
 ],
 "metadata": {
  "kernelspec": {
   "display_name": "Python 3 (ipykernel)",
   "language": "python",
   "name": "python3"
  },
  "language_info": {
   "codemirror_mode": {
    "name": "ipython",
    "version": 3
   },
   "file_extension": ".py",
   "mimetype": "text/x-python",
   "name": "python",
   "nbconvert_exporter": "python",
   "pygments_lexer": "ipython3",
   "version": "3.10.6"
  }
 },
 "nbformat": 4,
 "nbformat_minor": 5
}
